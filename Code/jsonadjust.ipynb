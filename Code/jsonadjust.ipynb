{
 "cells": [
  {
   "cell_type": "code",
   "execution_count": 2,
   "metadata": {},
   "outputs": [],
   "source": [
    "import csv\n",
    "import json\n",
    "\n",
    "csv_file = 'results2_updated.csv'\n",
    "json_file = 'results2_updates.json'\n",
    "\n",
    "data = []\n",
    "with open(csv_file, 'r', encoding='utf-8') as f:\n",
    "    reader = csv.DictReader(f)\n",
    "    for row in reader:\n",
    "        # Convert string representations of lists to actual lists\n",
    "        for key in ['biggest_words', 'biggest_words_definitions', 'smallest_words', 'smallest_words_definitions']:\n",
    "            row[key] = eval(row[key])\n",
    "        # Convert numeric fields\n",
    "        for key in ['avg_AoA', 'avg_biggest_words_rating', 'avg_smallest_words_rating', 'biggest_sentence_rating', 'smallest_sentence_rating']:\n",
    "            row[key] = float(row[key]) if row[key] else None\n",
    "        data.append(row)\n",
    "\n",
    "with open(json_file, 'w', encoding='utf-8') as f:\n",
    "    json.dump(data, f, ensure_ascii=False, indent=4)"
   ]
  },
  {
   "cell_type": "code",
   "execution_count": 4,
   "metadata": {},
   "outputs": [],
   "source": [
    "import pandas as pd\n",
    "\n",
    "# Convert the data list to a pandas DataFrame\n",
    "df = pd.DataFrame(data)\n",
    "\n",
    "# Update each entry in the DataFrame with the new \"imagePath\" column\n",
    "df['imagePath'] = df['President'].apply(lambda x: f\"img/{x.replace(' ', '_')}.png\")\n",
    "\n",
    "# Write the updated DataFrame to the JSON file\n",
    "df.to_json(json_file, orient='records', force_ascii=False, indent=4)"
   ]
  },
  {
   "cell_type": "code",
   "execution_count": null,
   "metadata": {},
   "outputs": [],
   "source": []
  }
 ],
 "metadata": {
  "kernelspec": {
   "display_name": "my_env",
   "language": "python",
   "name": "my_env"
  },
  "language_info": {
   "codemirror_mode": {
    "name": "ipython",
    "version": 3
   },
   "file_extension": ".py",
   "mimetype": "text/x-python",
   "name": "python",
   "nbconvert_exporter": "python",
   "pygments_lexer": "ipython3",
   "version": "3.12.4"
  }
 },
 "nbformat": 4,
 "nbformat_minor": 2
}
